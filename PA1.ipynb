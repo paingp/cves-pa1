{
  "nbformat": 4,
  "nbformat_minor": 0,
  "metadata": {
    "colab": {
      "provenance": [],
      "authorship_tag": "ABX9TyMd7amYspEKT1S0qmeT+ZBJ",
      "include_colab_link": true
    },
    "kernelspec": {
      "name": "python3",
      "display_name": "Python 3"
    },
    "language_info": {
      "name": "python"
    }
  },
  "cells": [
    {
      "cell_type": "markdown",
      "metadata": {
        "id": "view-in-github",
        "colab_type": "text"
      },
      "source": [
        "<a href=\"https://colab.research.google.com/github/paingp/cves-pa1/blob/main/PA1.ipynb\" target=\"_parent\"><img src=\"https://colab.research.google.com/assets/colab-badge.svg\" alt=\"Open In Colab\"/></a>"
      ]
    },
    {
      "cell_type": "markdown",
      "source": [
        "#**CAM2 Computer Vision for Embedded Systems PA1**\n",
        "\n",
        "## **Instructions**\n",
        "Upload a jpg image of your choice to Google Colab. \n",
        "\n",
        "You will be performing basic image processing on this image.\n",
        "\n",
        "Fill in the missing lines of code to complete the assignment"
      ],
      "metadata": {
        "id": "M0NM0c4ONKwv"
      }
    },
    {
      "cell_type": "markdown",
      "source": [
        "## 1. Mount your google drive on Colab\n",
        "Since colab is running on a remote server on Google, you need to mount your google drive on Colab to serve as a 'local directory' to your coding environment. "
      ],
      "metadata": {
        "id": "Ry-1R87gNO4r"
      }
    },
    {
      "cell_type": "code",
      "execution_count": null,
      "metadata": {
        "id": "3OES1nW4NFfC"
      },
      "outputs": [],
      "source": [
        "from google.colab import drive \n",
        "drive.mount('/content/drive')"
      ]
    },
    {
      "cell_type": "markdown",
      "source": [
        "## 2. Load the dependencies\n",
        "This section loads the required libraries cv2 (OpenCV), numpy, torch (PyTorch), and matplotlib."
      ],
      "metadata": {
        "id": "mj-MuV6eNRvS"
      }
    },
    {
      "cell_type": "code",
      "source": [
        "import cv2\n",
        "import numpy as np\n",
        "import torch\n",
        "from google.colab.patches import cv2_imshow\n",
        "import matplotlib.pylab as plt"
      ],
      "metadata": {
        "id": "BsTcY6E0NTjf"
      },
      "execution_count": null,
      "outputs": []
    },
    {
      "cell_type": "markdown",
      "source": [
        "## 3. PyTorch and Tensors\n",
        "The section below demonstrates how to view the version of PyTorch being used and an example of a tenosr.\n",
        "\n",
        "A tensor is a multi-dimensional matrix\n",
        "\n",
        "Tensors are similar to numpy arrays except they can also run on GPU (faster computation) and are immutable (can't be changed)"
      ],
      "metadata": {
        "id": "RHZC3whuNVP4"
      }
    },
    {
      "cell_type": "code",
      "source": [
        "print('{}\\n'.format(torch.__version__))\n",
        "\n",
        "X = torch.tensor([[1, 2], [3, 4]])      # This is a matrix with [1 2] in the 1st row and [3, 4] in the 2nd row\n",
        "print(X)"
      ],
      "metadata": {
        "id": "-NmjIXppNZG8"
      },
      "execution_count": null,
      "outputs": []
    },
    {
      "cell_type": "markdown",
      "source": [
        "## Optional\n",
        "The following code block contains a function to resize the aspect ratio of your image.\n",
        "\n",
        "You may want to use it to make an image smaller and easier to view."
      ],
      "metadata": {
        "id": "oMMoYRX2NbAS"
      }
    },
    {
      "cell_type": "code",
      "source": [
        "def resize_preserve_ar(img, percent):\n",
        "    # img: ndarray of image\n",
        "    # percent: percentage to which original image will be downscaled\n",
        "\n",
        "    width = int(img.shape[1] * percent / 100)\n",
        "    height = int(img.shape[0] * percent / 100)\n",
        "    return (width, height)"
      ],
      "metadata": {
        "id": "fESKd1AgNc-x"
      },
      "execution_count": null,
      "outputs": []
    },
    {
      "cell_type": "code",
      "source": [
        "image = cv2.imread('/content/drive/MyDrive/Colab Notebooks/cam2/EngMallSunset.jpg')     # change this to the path of your file in Google Drive\n",
        "\n",
        "'''\n",
        "#Example of how you can use the provdied function to resize your image.\n",
        "#The two lines of code below will resize your image to 9% of it's orginal size.\n",
        "dim = resize_preserve_ar(image, 9)\n",
        "resized = cv2.resize(image, dim, interpolation=cv2.INTER_AREA)\n",
        "'''\n",
        "\n",
        "#print(image)       # You will see the data a computer sees instead of an image like us humans \n",
        "cv2_imshow(image)"
      ],
      "metadata": {
        "id": "Jc8zTwfiNgX6"
      },
      "execution_count": null,
      "outputs": []
    },
    {
      "cell_type": "markdown",
      "source": [
        "## 4. View histograms of the pixel data\n",
        "\n",
        "Call the plt.hist function to plot a histogram with the following arguments:\n",
        "1. image.ravel()\n",
        "2. 256\n",
        "3. [0, 256]\n",
        "\n",
        "The keyword for the 2nd and 3rd requirements are bins and range respectively.\n",
        "\n",
        "Using keyword arguments lets us specify arguments for specific parameters and use default arguments for the rest of a function.\n",
        "\n",
        "View the documentation for the histogram function to see what I mean: https://matplotlib.org/stable/api/_as_gen/matplotlib.pyplot.hist.html\n",
        "\n",
        "The numpy.ravel function flattens a multi-dimensional array to a 1D array (vector).\n",
        " \n",
        "Note: There are no row or column vectors in numpy."
      ],
      "metadata": {
        "id": "n5_XpckBNej8"
      }
    },
    {
      "cell_type": "code",
      "source": [
        "'''\n",
        "plt.hist()    # fill in the arguments as specified above\n",
        "plt.show()    # doesn't require any arguments\n",
        "'''"
      ],
      "metadata": {
        "id": "o0fusHFuNkLk"
      },
      "execution_count": null,
      "outputs": []
    },
    {
      "cell_type": "markdown",
      "source": [
        "Display the histogram of each of the Red, Green, and Blue channels."
      ],
      "metadata": {
        "id": "2nEh1AZzNy-w"
      }
    },
    {
      "cell_type": "code",
      "source": [
        "color = ('b','g','r')\n",
        "for i,col in enumerate(color):\n",
        "    histr = cv2.calcHist([resized],[i],None,[256],[0,256])\n",
        "    plt.plot(histr,color = col)\n",
        "    plt.xlim([0,256])\n",
        "plt.show()"
      ],
      "metadata": {
        "id": "ScslbWGdN9To"
      },
      "execution_count": null,
      "outputs": []
    }
  ]
}